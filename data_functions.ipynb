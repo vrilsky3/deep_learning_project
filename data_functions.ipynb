{
 "cells": [
  {
   "cell_type": "code",
   "execution_count": 2,
   "metadata": {},
   "outputs": [
    {
     "data": {
      "application/vnd.jupyter.widget-view+json": {
       "model_id": "102000aa5cfd485da5f0987b7ecc75de",
       "version_major": 2,
       "version_minor": 0
      },
      "text/plain": [
       "Downloading readme:   0%|          | 0.00/35.3k [00:00<?, ?B/s]"
      ]
     },
     "metadata": {},
     "output_type": "display_data"
    },
    {
     "data": {
      "application/vnd.jupyter.widget-view+json": {
       "model_id": "201a79b433264db69a7603b76c6e174e",
       "version_major": 2,
       "version_minor": 0
      },
      "text/plain": [
       "Downloading data:   0%|          | 0.00/584k [00:00<?, ?B/s]"
      ]
     },
     "metadata": {},
     "output_type": "display_data"
    },
    {
     "data": {
      "application/vnd.jupyter.widget-view+json": {
       "model_id": "4424c72626fc46139b406f4026196396",
       "version_major": 2,
       "version_minor": 0
      },
      "text/plain": [
       "Downloading data:   0%|          | 0.00/69.0k [00:00<?, ?B/s]"
      ]
     },
     "metadata": {},
     "output_type": "display_data"
    },
    {
     "data": {
      "application/vnd.jupyter.widget-view+json": {
       "model_id": "ed003eb2da0045da94380c3443cf800b",
       "version_major": 2,
       "version_minor": 0
      },
      "text/plain": [
       "Downloading data:   0%|          | 0.00/621k [00:00<?, ?B/s]"
      ]
     },
     "metadata": {},
     "output_type": "display_data"
    },
    {
     "data": {
      "application/vnd.jupyter.widget-view+json": {
       "model_id": "6a9586b178d84d7790ed39040efee840",
       "version_major": 2,
       "version_minor": 0
      },
      "text/plain": [
       "Generating train split:   0%|          | 0/2490 [00:00<?, ? examples/s]"
      ]
     },
     "metadata": {},
     "output_type": "display_data"
    },
    {
     "data": {
      "application/vnd.jupyter.widget-view+json": {
       "model_id": "8d779b261d5543f4830bea00bddcbd25",
       "version_major": 2,
       "version_minor": 0
      },
      "text/plain": [
       "Generating validation split:   0%|          | 0/277 [00:00<?, ? examples/s]"
      ]
     },
     "metadata": {},
     "output_type": "display_data"
    },
    {
     "data": {
      "application/vnd.jupyter.widget-view+json": {
       "model_id": "7e9c408e3d244c96b5637b1b9a1ca744",
       "version_major": 2,
       "version_minor": 0
      },
      "text/plain": [
       "Generating test split:   0%|          | 0/3000 [00:00<?, ? examples/s]"
      ]
     },
     "metadata": {},
     "output_type": "display_data"
    },
    {
     "data": {
      "application/vnd.jupyter.widget-view+json": {
       "model_id": "6dc734864aa84dc289f2f3c48e0f709a",
       "version_major": 2,
       "version_minor": 0
      },
      "text/plain": [
       "Map:   0%|          | 0/2490 [00:00<?, ? examples/s]"
      ]
     },
     "metadata": {},
     "output_type": "display_data"
    },
    {
     "name": "stdout",
     "output_type": "stream",
     "text": [
      "Dataset({\n",
      "    features: ['sentence1', 'sentence2', 'label', 'idx', 'context'],\n",
      "    num_rows: 2490\n",
      "})\n",
      "{'sentence1': 'No Weapons of Mass Destruction Found in Iraq Yet.', 'sentence2': 'Weapons of Mass Destruction Found in Iraq.', 'label': 1, 'idx': 0, 'context': [['Following the Israel-Egypt Peace Treaty of 1979, Israel agreed to withdraw from the Sinai Peninsula, in exchange for peace with its neighbor. For over two decades, the Sinai Peninsula was home to about 7,000 Israelis.', 'The Israel-Egypt Peace Agreement was signed in 1979.', '0'], ['\"A force majeure is an act of God,\" said attorney Phil Wittmann, who represents the New Orleans Saints and owner Tom Benson\\'s local interests.', 'Phil Wittmann works for Tom Benson.', '0'], ['Galvarino Apablaza is the leader of the Marxist group FPMR - Manuel Rodriguez Patriotic Front. FPMR was founded in 1983 and became the armed wing of the Chilean Communist Party to carry out terrorist attacks against the Chilean militarist government of the dictator Augusto Pinochet. Its name is a tribute for Manuel Rodriguez Erdoiza, considered a Chilean hero in the war of the independence of Chile against Spain.', '\"Comandante Salvador\" is the nickname of Galvarino Apablaza.', '1']]}\n"
     ]
    }
   ],
   "source": [
    "from datasets import load_dataset\n",
    "import numpy as np\n",
    "\n",
    "# Load the RTE dataset\n",
    "dataset = load_dataset(\"glue\", \"rte\")\n",
    "train_dataset = dataset[\"train\"]\n",
    "\n",
    "def add_feature(example, length=8, train_dataset=None, num_of_ctx_items=3):\n",
    "    context = []\n",
    "    for _ in range(num_of_ctx_items):\n",
    "        jj = np.random.randint(length)\n",
    "        s1 = train_dataset['sentence1'][jj]\n",
    "        s2 = train_dataset['sentence2'][jj]\n",
    "        label = str(train_dataset['label'][jj])\n",
    "        context.append([s1, s2, label])\n",
    "    \n",
    "    example['context'] = context\n",
    "    return example\n",
    "\n",
    "# Apply the add_feature function to the dataset\n",
    "new_train_dataset = train_dataset.map(\n",
    "    add_feature, \n",
    "    fn_kwargs={\n",
    "        'length': len(train_dataset), \n",
    "        'train_dataset': train_dataset, \n",
    "        'num_of_ctx_items': 3\n",
    "    }\n",
    ")\n",
    "\n",
    "# Display the dataset info\n",
    "print(new_train_dataset)\n",
    "\n",
    "# Display a sample from the dataset\n",
    "print(new_train_dataset[0])"
   ]
  },
  {
   "cell_type": "code",
   "execution_count": 21,
   "metadata": {},
   "outputs": [],
   "source": [
    "def create_prompt_single(example):\n",
    "    prompt = \"Task: Determine the relationship between the following two sentences. Answer 0 for 'entailment', 1 for 'contradiction'.\\n\\n\"\n",
    "\n",
    "    # Add context examples\n",
    "    num_examples = len(example['context'])\n",
    "    if num_examples > 0:\n",
    "            prompt += f\"Here are {num_examples} example{'s' if num_examples > 1 else ''} to help you:\\n\\n\"\n",
    "    for idx, (s1, s2, label) in enumerate(example['context'], 1):\n",
    "        prompt += f\"Example {idx}:\\n\"\n",
    "        prompt += f\"Sentence1: {s1}\\n\"\n",
    "        prompt += f\"Sentence2: {s2}\\n\"\n",
    "        prompt += f\"Answer: {label}\\n\\n\"\n",
    "    \n",
    "    # Add the actual question\n",
    "    prompt += \"Now, please answer the following question:\\n\\n\"\n",
    "    prompt += \"Question:\\n\"\n",
    "    prompt += f\"Sentence1: {example['sentence1']}\\n\"\n",
    "    prompt += f\"Sentence2: {example['sentence2']}\\n\"\n",
    "    prompt += \"Answer: \"\n",
    "    \n",
    "    return prompt"
   ]
  },
  {
   "cell_type": "code",
   "execution_count": 22,
   "metadata": {},
   "outputs": [
    {
     "name": "stdout",
     "output_type": "stream",
     "text": [
      "Task: Determine the relationship between the following two sentences. Answer 0 for 'entailment', 1 for 'contradiction'.\n",
      "\n",
      "Here are 3 examples to help you:\n",
      "\n",
      "Example 1:\n",
      "Sentence1: Following the Israel-Egypt Peace Treaty of 1979, Israel agreed to withdraw from the Sinai Peninsula, in exchange for peace with its neighbor. For over two decades, the Sinai Peninsula was home to about 7,000 Israelis.\n",
      "Sentence2: The Israel-Egypt Peace Agreement was signed in 1979.\n",
      "Answer: 0\n",
      "\n",
      "Example 2:\n",
      "Sentence1: \"A force majeure is an act of God,\" said attorney Phil Wittmann, who represents the New Orleans Saints and owner Tom Benson's local interests.\n",
      "Sentence2: Phil Wittmann works for Tom Benson.\n",
      "Answer: 0\n",
      "\n",
      "Example 3:\n",
      "Sentence1: Galvarino Apablaza is the leader of the Marxist group FPMR - Manuel Rodriguez Patriotic Front. FPMR was founded in 1983 and became the armed wing of the Chilean Communist Party to carry out terrorist attacks against the Chilean militarist government of the dictator Augusto Pinochet. Its name is a tribute for Manuel Rodriguez Erdoiza, considered a Chilean hero in the war of the independence of Chile against Spain.\n",
      "Sentence2: \"Comandante Salvador\" is the nickname of Galvarino Apablaza.\n",
      "Answer: 1\n",
      "\n",
      "Now, please answer the following question:\n",
      "\n",
      "Question:\n",
      "Sentence1: No Weapons of Mass Destruction Found in Iraq Yet.\n",
      "Sentence2: Weapons of Mass Destruction Found in Iraq.\n",
      "Answer: \n"
     ]
    }
   ],
   "source": [
    "sample_data = new_train_dataset[0]\n",
    "sample_prompt = create_prompt_single(sample_data)\n",
    "print(sample_prompt)"
   ]
  },
  {
   "cell_type": "code",
   "execution_count": 18,
   "metadata": {},
   "outputs": [
    {
     "data": {
      "text/plain": [
       "['Galvarino Apablaza is the leader of the Marxist group FPMR - Manuel Rodriguez Patriotic Front. FPMR was founded in 1983 and became the armed wing of the Chilean Communist Party to carry out terrorist attacks against the Chilean militarist government of the dictator Augusto Pinochet. Its name is a tribute for Manuel Rodriguez Erdoiza, considered a Chilean hero in the war of the independence of Chile against Spain.',\n",
       " '\"Comandante Salvador\" is the nickname of Galvarino Apablaza.',\n",
       " '1']"
      ]
     },
     "execution_count": 18,
     "metadata": {},
     "output_type": "execute_result"
    }
   ],
   "source": [
    "new_train_dataset[0]['context'][2]"
   ]
  },
  {
   "cell_type": "code",
   "execution_count": 19,
   "metadata": {},
   "outputs": [],
   "source": [
    "def create_prompt_batch(examples):\n",
    "    prompts = []\n",
    "    for idx in range(len(examples['sentence1'])):\n",
    "        prompt = \"\"\"Task: Determine the relationship between the following two sentences. Answer 0 for 'entailment', 1 for 'contradiction'.\\n\\n\"\"\"\n",
    "\n",
    "        # Add context examples\n",
    "        num_examples = len(examples['context'][idx])\n",
    "        if num_examples > 0:\n",
    "            prompt += f\"Here are {num_examples} example{'s' if num_examples > 1 else ''} to help you:\\n\\n\"\n",
    "        for ctx_idx, (s1, s2, label) in enumerate(examples['context'][idx], 1):\n",
    "            prompt += f\"Example {ctx_idx}:\\n\"\n",
    "            prompt += f\"Sentence1: {s1}\\n\"\n",
    "            prompt += f\"Sentence2: {s2}\\n\"\n",
    "            prompt += f\"Answer: {label}\\n\\n\"\n",
    "        \n",
    "        # Add the actual question\n",
    "        prompt += \"Now, please answer the following question:\\n\\n\"\n",
    "        prompt += \"Question:\\n\"\n",
    "        prompt += f\"Sentence1: {examples['sentence1'][idx]}\\n\"\n",
    "        prompt += f\"Sentence2: {examples['sentence2'][idx]}\\n\"\n",
    "        prompt += \"Answer: \"\n",
    "        \n",
    "        prompts.append(prompt)\n",
    "    \n",
    "    return {\"prompt\": prompts}"
   ]
  },
  {
   "cell_type": "code",
   "execution_count": 20,
   "metadata": {},
   "outputs": [
    {
     "data": {
      "application/vnd.jupyter.widget-view+json": {
       "model_id": "454953654db84342ad06418b0f6e0a7c",
       "version_major": 2,
       "version_minor": 0
      },
      "text/plain": [
       "Map:   0%|          | 0/2490 [00:00<?, ? examples/s]"
      ]
     },
     "metadata": {},
     "output_type": "display_data"
    },
    {
     "name": "stdout",
     "output_type": "stream",
     "text": [
      "Task: Determine the relationship between the following two sentences. Answer 0 for 'entailment', 1 for 'contradiction'.\n",
      "\n",
      "Here are 3 examples to help you:\n",
      "\n",
      "Example 1:\n",
      "Sentence1: Following the Israel-Egypt Peace Treaty of 1979, Israel agreed to withdraw from the Sinai Peninsula, in exchange for peace with its neighbor. For over two decades, the Sinai Peninsula was home to about 7,000 Israelis.\n",
      "Sentence2: The Israel-Egypt Peace Agreement was signed in 1979.\n",
      "Answer: 0\n",
      "\n",
      "Example 2:\n",
      "Sentence1: \"A force majeure is an act of God,\" said attorney Phil Wittmann, who represents the New Orleans Saints and owner Tom Benson's local interests.\n",
      "Sentence2: Phil Wittmann works for Tom Benson.\n",
      "Answer: 0\n",
      "\n",
      "Example 3:\n",
      "Sentence1: Galvarino Apablaza is the leader of the Marxist group FPMR - Manuel Rodriguez Patriotic Front. FPMR was founded in 1983 and became the armed wing of the Chilean Communist Party to carry out terrorist attacks against the Chilean militarist government of the dictator Augusto Pinochet. Its name is a tribute for Manuel Rodriguez Erdoiza, considered a Chilean hero in the war of the independence of Chile against Spain.\n",
      "Sentence2: \"Comandante Salvador\" is the nickname of Galvarino Apablaza.\n",
      "Answer: 1\n",
      "\n",
      "Now, please answer the following question:\n",
      "\n",
      "Question:\n",
      "Sentence1: No Weapons of Mass Destruction Found in Iraq Yet.\n",
      "Sentence2: Weapons of Mass Destruction Found in Iraq.\n",
      "Answer: \n",
      "\n",
      "Total number of generated prompts: 2490\n"
     ]
    }
   ],
   "source": [
    "# Generate prompts for the entire dataset\n",
    "prompted_dataset = new_train_dataset.map(create_prompt_batch, batched=True, remove_columns=new_train_dataset.column_names)\n",
    "\n",
    "# Check the results\n",
    "print(prompted_dataset[0]['prompt'])\n",
    "print(f\"\\nTotal number of generated prompts: {len(prompted_dataset)}\")"
   ]
  },
  {
   "cell_type": "code",
   "execution_count": null,
   "metadata": {},
   "outputs": [],
   "source": []
  }
 ],
 "metadata": {
  "kernelspec": {
   "display_name": "cs7643-a4",
   "language": "python",
   "name": "python3"
  },
  "language_info": {
   "codemirror_mode": {
    "name": "ipython",
    "version": 3
   },
   "file_extension": ".py",
   "mimetype": "text/x-python",
   "name": "python",
   "nbconvert_exporter": "python",
   "pygments_lexer": "ipython3",
   "version": "3.8.19"
  }
 },
 "nbformat": 4,
 "nbformat_minor": 2
}
